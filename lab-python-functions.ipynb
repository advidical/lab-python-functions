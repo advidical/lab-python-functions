{
 "cells": [
  {
   "cell_type": "markdown",
   "id": "25d7736c-ba17-4aff-b6bb-66eba20fbf4e",
   "metadata": {},
   "source": [
    "# Lab | Functions"
   ]
  },
  {
   "cell_type": "markdown",
   "id": "0c581062-8967-4d93-b06e-62833222f930",
   "metadata": {
    "tags": []
   },
   "source": [
    "## Exercise: Managing Customer Orders with Functions\n",
    "\n",
    "In the previous exercise, you improved the code for managing customer orders by using loops and flow control. Now, let's take it a step further and refactor the code by introducing functions.\n",
    "\n",
    "Follow the steps below to complete the exercise:\n",
    "\n",
    "1. Define a function named `initialize_inventory` that takes `products` as a parameter. Inside the function, implement the code for initializing the inventory dictionary using a loop and user input.\n",
    "\n",
    "2. Define a function named `get_customer_orders` that takes no parameters. Inside the function, implement the code for prompting the user to enter the product names using a loop. The function should return the `customer_orders` set.\n",
    "\n",
    "3. Define a function named `update_inventory` that takes `customer_orders` and `inventory` as parameters. Inside the function, implement the code for updating the inventory dictionary based on the customer orders.\n",
    "\n",
    "4. Define a function named `calculate_order_statistics` that takes `customer_orders` and `products` as parameters. Inside the function, implement the code for calculating the order statistics (total products ordered, and percentage of unique products ordered). The function should return these values.\n",
    "\n",
    "5. Define a function named `print_order_statistics` that takes `order_statistics` as a parameter. Inside the function, implement the code for printing the order statistics.\n",
    "\n",
    "6. Define a function named `print_updated_inventory` that takes `inventory` as a parameter. Inside the function, implement the code for printing the updated inventory.\n",
    "\n",
    "7. Call the functions in the appropriate sequence to execute the program and manage customer orders.\n",
    "\n",
    "Hints for functions:\n",
    "\n",
    "- Consider the input parameters required for each function and their return values.\n",
    "- Utilize function parameters and return values to transfer data between functions.\n",
    "- Test your functions individually to ensure they work correctly.\n",
    "\n",
    "\n"
   ]
  },
  {
   "cell_type": "code",
   "execution_count": 1,
   "id": "6e4a6b17",
   "metadata": {
    "vscode": {
     "languageId": "plaintext"
    }
   },
   "outputs": [],
   "source": [
    "# Step 1:\n",
    "def initialize_inventory(products):\n",
    "  flags = [False]*len(products)\n",
    "  # print(flags.values(), not all(flags.values()))\n",
    "  while not all(flags):\n",
    "    try:\n",
    "      for ind, product in enumerate(products):\n",
    "        if product in inventory: continue\n",
    "        amount = int(input(f\"how many {product}s do you want: \"))\n",
    "        assert amount >= 0,\"No Negative numbers\"\n",
    "        inventory[product] = amount\n",
    "        flags[ind] = True\n",
    "\n",
    "    except ValueError:\n",
    "        print(f\"That is not a number \\N{angry face}: Try Again!\\n\")\n",
    "    except AssertionError as err:\n",
    "        print(err)"
   ]
  },
  {
   "cell_type": "code",
   "execution_count": 2,
   "id": "41ee76fd",
   "metadata": {
    "scrolled": true
   },
   "outputs": [],
   "source": [
    "# Step 2:\n",
    "def get_customer_orders():\n",
    "    customer_order = set()\n",
    "    \n",
    "    ordering = 'yes'\n",
    "    while ordering == 'yes':\n",
    "      available = set(products) - customer_order \n",
    "      if not available: print(\"No more items available\"); break\n",
    "      \n",
    "      print(f'you have these product types to pick [{list(available)}]')\n",
    "      item = input(\"Pick a product:\\n\").strip().lower()\n",
    "    \n",
    "      if item not in available:\n",
    "        print(f'{item} not in product inventory. Try Again.')\n",
    "        continue\n",
    "      if item in customer_order:\n",
    "        print(f\"{item} already in your Order! Pick another one\")\n",
    "        continue\n",
    "      customer_order.add(item)\n",
    "\n",
    "      ordering = input(f\"do you want to order something else: [yes/no]: \\n\").strip().lower()\n",
    "      while not (ordering == \"yes\" or ordering == 'no'):\n",
    "        print(\"Not a valid option:\")\n",
    "        ordering = input(f\"do you want to order something else: [yes/no]: \\n\").strip().lower()\n",
    "        \n",
    "    return customer_order\n"
   ]
  },
  {
   "cell_type": "code",
   "execution_count": 3,
   "id": "a60a4295",
   "metadata": {},
   "outputs": [],
   "source": [
    "#Step 3\n",
    "def update_inventory(inventory:dict, customer_order:set):\n",
    "    for order in customer_order: \n",
    "        if inventory[order] > 0: inventory[order] -= 1\n",
    "        "
   ]
  },
  {
   "cell_type": "code",
   "execution_count": 4,
   "id": "1d8a44ef",
   "metadata": {},
   "outputs": [],
   "source": [
    "#Step 4\n",
    "def calculate_order_statistics(products:list, customer_order:set):\n",
    "    order_status = (len(customer_order), f\"{len(customer_order)/ len(products)*100}%\")\n",
    "    return order_status"
   ]
  },
  {
   "cell_type": "code",
   "execution_count": 5,
   "id": "12974bd6",
   "metadata": {},
   "outputs": [],
   "source": [
    "# Step 5\n",
    "def print_order_statistics(order_status):\n",
    "    print(\"Order Statistics:\", \\\n",
    "          f\"Total Products Ordered: {order_status[0]}\", \\\n",
    "          f\"Percentage of Products Ordered: {order_status[1]}\",\n",
    "          sep=\"\\n\")"
   ]
  },
  {
   "cell_type": "code",
   "execution_count": 6,
   "id": "9e0acb99",
   "metadata": {},
   "outputs": [],
   "source": [
    "# Step 6 \n",
    "def print_updated_inventory(inventory):\n",
    "    for inv in inventory: print(f\"Amount of {inv}: {inventory[inv]}\")"
   ]
  },
  {
   "cell_type": "code",
   "execution_count": 7,
   "id": "855ac40a",
   "metadata": {},
   "outputs": [
    {
     "name": "stdout",
     "output_type": "stream",
     "text": [
      "how many t-shirts do you want: 10\n",
      "how many mugs do you want: 0\n",
      "how many hats do you want: -12\n",
      "No Negative numbers\n",
      "how many hats do you want: 10\n",
      "how many books do you want: 20qq\n",
      "That is not a number 😠: Try Again!\n",
      "\n",
      "how many books do you want: 20\n",
      "how many keychains do you want: ak\n",
      "That is not a number 😠: Try Again!\n",
      "\n",
      "how many keychains do you want: 23\n",
      "{'t-shirt': 10, 'mug': 0, 'hat': 10, 'book': 20, 'keychain': 23}\n",
      "you have these product types to pick [['hat', 'mug', 'book', 'keychain', 't-shirt']]\n",
      "Pick a product:\n",
      "hat\n",
      "do you want to order something else: [yes/no]: \n",
      "book\n",
      "Not a valid option:\n",
      "do you want to order something else: [yes/no]: \n",
      "Yes\n",
      "you have these product types to pick [['keychain', 't-shirt', 'mug', 'book']]\n",
      "Pick a product:\n",
      "mug\n",
      "do you want to order something else: [yes/no]: \n",
      "no\n",
      "{'hat', 'mug'}\n",
      "Order Statistics:\n",
      "Total Products Ordered: 2\n",
      "Percentage of Products Ordered: 40.0%\n",
      "Amount of t-shirt: 10\n",
      "Amount of mug: 0\n",
      "Amount of hat: 9\n",
      "Amount of book: 20\n",
      "Amount of keychain: 23\n"
     ]
    }
   ],
   "source": [
    "#Step 7\n",
    "products = [\"t-shirt\", \"mug\", \"hat\", \"book\", \"keychain\"]\n",
    "inventory = {}\n",
    "\n",
    "initialize_inventory(products)\n",
    "print(inventory)\n",
    "\n",
    "order = get_customer_orders()\n",
    "print(order)\n",
    "\n",
    "update_inventory(inventory, order)\n",
    "\n",
    "order_status = calculate_order_statistics(products, order)\n",
    "print_order_statistics(order_status)\n",
    "\n",
    "print_updated_inventory(inventory)"
   ]
  },
  {
   "cell_type": "code",
   "execution_count": null,
   "id": "deb40f0b",
   "metadata": {},
   "outputs": [],
   "source": []
  }
 ],
 "metadata": {
  "kernelspec": {
   "display_name": "Python 3 (ipykernel)",
   "language": "python",
   "name": "python3"
  },
  "language_info": {
   "codemirror_mode": {
    "name": "ipython",
    "version": 3
   },
   "file_extension": ".py",
   "mimetype": "text/x-python",
   "name": "python",
   "nbconvert_exporter": "python",
   "pygments_lexer": "ipython3",
   "version": "3.11.7"
  }
 },
 "nbformat": 4,
 "nbformat_minor": 5
}
